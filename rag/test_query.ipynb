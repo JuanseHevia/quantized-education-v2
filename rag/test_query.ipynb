{
 "cells": [
  {
   "cell_type": "code",
   "execution_count": 1,
   "metadata": {},
   "outputs": [],
   "source": [
    "import chromadb"
   ]
  },
  {
   "cell_type": "code",
   "execution_count": 2,
   "metadata": {},
   "outputs": [],
   "source": [
    "client = chromadb.PersistentClient(path=\"./kb500\")"
   ]
  },
  {
   "cell_type": "code",
   "execution_count": 3,
   "metadata": {},
   "outputs": [
    {
     "data": {
      "text/plain": [
       "1"
      ]
     },
     "execution_count": 3,
     "metadata": {},
     "output_type": "execute_result"
    }
   ],
   "source": [
    "client.count_collections()"
   ]
  },
  {
   "cell_type": "code",
   "execution_count": 4,
   "metadata": {},
   "outputs": [],
   "source": [
    "coll = client.get_collection(\"books\")"
   ]
  },
  {
   "cell_type": "code",
   "execution_count": 5,
   "metadata": {},
   "outputs": [
    {
     "data": {
      "text/plain": [
       "5149"
      ]
     },
     "execution_count": 5,
     "metadata": {},
     "output_type": "execute_result"
    }
   ],
   "source": [
    "coll.count() # number of stored chunks"
   ]
  },
  {
   "cell_type": "code",
   "execution_count": 6,
   "metadata": {},
   "outputs": [],
   "source": [
    "res = coll.query(\n",
    "    query_texts=[\"Photosynthesis\"],\n",
    "    n_results=3\n",
    ")"
   ]
  },
  {
   "cell_type": "code",
   "execution_count": 7,
   "metadata": {},
   "outputs": [
    {
     "name": "stdout",
     "output_type": "stream",
     "text": [
      "CHAPTER SUMMARY 8.1 Overview of Photosynthesis The process of photosynthesis transformed life on Earth. By harnessing energy from the sun, the evolution of photosynthesis allowed living things access to enormous amounts of energy. Because of photosynthesis, living things gained access to sufficient energy that allowed them to build new structures and achieve the biodiversity evident today. Only certain organisms (photoautotrophs), can perform photosynthesis; they require the presence of chlorophyll, a specialized pigment that absorbs certain wavelengths of the visible spectrum and can capture energy from sunlight. Photosynthesis uses carbon dioxide and water to assemble carbohydrate molecules and release oxygen as a byproduct into the atmosphere. Eukaryotic autotrophs, such as plants and algae, have organelles called chloroplasts in which photosynthesis takes place, and starch accumulates. In prokaryotes, such as cyanobacteria, the process is less localized and occurs within folded membranes, extensions of the plasma membrane, and in the cytoplasm. 8.2 The Light-Dependent Reactions of Photosynthesis The pigments of the first part of photosynthesis, the light- dependent reactions, absorb energy from sunlight. A photon strikes the antenna pigments of photosystem II to initiate photosynthesis. The energy travels to the reaction center that contains chlorophyll a and then to the electron transport chain, which pumps hydrogen ions into the thylakoid interior. This action builds up a high concentration of hydrogen ions. The hydrogen ions flow through ATP synthase during chemiosmosis to form molecules of ATP, which are used for the formation of sugar molecules in the second stage of photosynthesis. Photosystem I absorbs a second photon, which results in the formation of an NADPH molecule, another energy and reducing carrier for the light- independent reactions. 8.3 Using Light Energy to Make Organic Molecules Using the energy carriers formed in the first steps of photosynthesis, the light-independent reactions, or the Calvin cycle, take in CO2 from the atmosphere. An enzyme, RuBisCO, catalyzes a reaction with CO2 and another organic compound, RuBP. After three cycles, a three-carbon molecule of G3P leaves the cycle to become part of a carbohydrate molecule. The remaining G3P molecules stay in the cycle to be regenerated into RuBP, which is then ready to react with more CO2. Photosynthesis forms an energy cycle with the process of cellular respiration. Because plants contain both chloroplasts and mitochondria, they rely upon both photosynthesis and respiration for their ability to function in both the light and dark, and to be able to interconvert essential metabolites. VISUAL CONNECTION QUESTIONS 1. Figure 8.6 On a hot, dry day, the guard cells of plants close their stomata to conserve water. What impact will this have on photosynthesis? 2. Figure 8.16 What is the initial source of electrons for the chloroplast electron transport chain? a. Water b. Oxygen c. Carbon dioxide d. NADPH 3. Figure 8.18 Which of the following statements is true? a. In photosynthesis, oxygen, carbon dioxide, ATP, and NADPH are reactants. G3P and water are products. b. In photosynthesis, chlorophyll, water, and carbon dioxide are reactants. G3P and oxygen are products. c. In photosynthesis, water, \n",
      "\n",
      "FIGURE 5.5 Photosynthesis uses solar energy, carbon dioxide, and water to release oxygen and to produce energy-storing sugar molecules. The complex reactions of photosynthesis can be summarized by the chemical equation shown in Figure 5.6. FIGURE 5.6 The process of photosynthesis can be represented by an equation, wherein carbon dioxide and water produce sugar and oxygen using energy from sunlight. Although the equation looks simple, the many steps that take place during photosynthesis are actually quite complex, as in the way that the reaction summarizing cellular respiration represented many individual reactions. Before learning the details of how photoautotrophs turn sunlight into food, it is important to become familiar with the physical structures involved. In plants, photosynthesis takes place primarily in leaves, which consist of many layers of cells and have differentiated top and bottom sides. The process of photosynthesis occurs not on the surface layers of the leaf, but rather in a middle layer called the mesophyll (Figure 5.7). The gas exchange of carbon dioxide and oxygen occurs through small, regulated openings called stomata. In all autotrophic eukaryotes, photosynthesis takes place inside an organelle called a chloroplast. In plants, chloroplast-containing cells exist in the mesophyll. Chloroplasts have a double (inner and outer) membrane. Within the chloroplast is a third membrane that forms stacked, disc-shaped structures called thylakoids. Embedded in the thylakoid membrane are molecules of chlorophyll, a pigment (a molecule that absorbs light) through which the entire process of photosynthesis begins. Chlorophyll is responsible for the green color of plants. The thylakoid 118 5 • Photosynthesis Access for free at openstax.org \n",
      "\n",
      "The following is the chemical equation for photosynthesis (Figure 8.5): Figure 8.5 The basic equation for photosynthesis is deceptively simple. In reality, the process takes place in many steps involving intermediate reactants and products. Glucose, the primary energy source in cells, is made from two three-carbon G3Ps. Although the equation looks simple, the many steps that take place during photosynthesis are actually quite complex. Before learning the details of how photoautotrophs turn sunlight into food, it is important to become familiar with the structures involved. Basic Photosynthetic Structures In plants, photosynthesis generally takes place in leaves, which consist of several layers of cells. The process of photosynthesis occurs in a middle layer called the mesophyll. The gas exchange of carbon dioxide and oxygen occurs through small, regulated openings called stomata (singular: stoma), which also play roles in the regulation of gas exchange and water balance. The stomata are typically located on the underside of the leaf, which helps to minimize water loss due to high temperatures on the upper surface of the leaf. Each stoma is flanked by guard cells that regulate the opening and closing of the stomata by swelling or shrinking in response to osmotic changes. In all autotrophic eukaryotes, photosynthesis takes place inside an organelle called a chloroplast. For plants, chloroplast- containing cells exist mostly in the mesophyll. Chloroplasts have a double membrane envelope (composed of an outer membrane and an inner membrane), and are ancestrally derived from ancient free-living cyanobacteria. Within the chloroplast are stacked, disc-shaped structures called thylakoids. Embedded in the thylakoid membrane is chlorophyll, a pigment (molecule that absorbs light) responsible for the initial interaction between light and plant material, and numerous proteins that make up the electron transport chain. The thylakoid membrane encloses an internal space called the thylakoid lumen. As shown in Figure 8.6, a stack of thylakoids is called a granum, and the liquid-filled space surrounding the granum is called stroma or “bed” (not to be confused with stoma or “mouth,” an opening on the leaf epidermis). VISUAL CONNECTION Figure 8.6 Photosynthesis takes place in chloroplasts, which have an outer membrane and an inner membrane. Stacks of thylakoids called grana form a third membrane layer. On a hot, dry day, the guard cells of plants close their stomata to conserve water. What impact will this have on photosynthesis? 208 Chapter 8 • Photosynthesis Access for free at openstax.org. \n",
      "\n"
     ]
    }
   ],
   "source": [
    "for _item in res['documents'][0]:\n",
    "    print(_item, \"\\n\")"
   ]
  }
 ],
 "metadata": {
  "kernelspec": {
   "display_name": "mlx",
   "language": "python",
   "name": "python3"
  },
  "language_info": {
   "codemirror_mode": {
    "name": "ipython",
    "version": 3
   },
   "file_extension": ".py",
   "mimetype": "text/x-python",
   "name": "python",
   "nbconvert_exporter": "python",
   "pygments_lexer": "ipython3",
   "version": "3.11.10"
  }
 },
 "nbformat": 4,
 "nbformat_minor": 2
}
