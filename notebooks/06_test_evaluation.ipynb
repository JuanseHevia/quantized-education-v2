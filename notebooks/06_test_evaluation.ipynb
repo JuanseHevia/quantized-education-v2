{
 "cells": [
  {
   "cell_type": "code",
   "execution_count": 1,
   "metadata": {},
   "outputs": [
    {
     "name": "stdout",
     "output_type": "stream",
     "text": [
      "/Users/juansegundohevia/Documents/repos/quantized-education-v2\n"
     ]
    }
   ],
   "source": [
    "%cd .."
   ]
  },
  {
   "cell_type": "code",
   "execution_count": 2,
   "metadata": {},
   "outputs": [
    {
     "name": "stderr",
     "output_type": "stream",
     "text": [
      "/Users/juansegundohevia/anaconda3/envs/mlx/lib/python3.11/site-packages/tqdm/auto.py:21: TqdmWarning: IProgress not found. Please update jupyter and ipywidgets. See https://ipywidgets.readthedocs.io/en/stable/user_install.html\n",
      "  from .autonotebook import tqdm as notebook_tqdm\n"
     ]
    }
   ],
   "source": [
    "from commons.benchmarks import BenchmarkDataset"
   ]
  },
  {
   "cell_type": "code",
   "execution_count": 3,
   "metadata": {},
   "outputs": [
    {
     "name": "stderr",
     "output_type": "stream",
     "text": [
      "Filter: 100%|██████████| 14042/14042 [00:00<00:00, 144035.53 examples/s]\n",
      "Filter: 100%|██████████| 1531/1531 [00:00<00:00, 146258.50 examples/s]\n",
      "Filter: 100%|██████████| 285/285 [00:00<00:00, 55482.79 examples/s]\n",
      "Filter: 100%|██████████| 99842/99842 [00:00<00:00, 135175.35 examples/s]\n"
     ]
    }
   ],
   "source": [
    "dataset = BenchmarkDataset(subtasks=[\"college_biology\", \"high_school_biology\"], device=\"cpu\")"
   ]
  },
  {
   "cell_type": "code",
   "execution_count": 4,
   "metadata": {},
   "outputs": [
    {
     "name": "stderr",
     "output_type": "stream",
     "text": [
      "/Users/juansegundohevia/anaconda3/envs/mlx/lib/python3.11/site-packages/huggingface_hub/file_download.py:1142: FutureWarning: `resume_download` is deprecated and will be removed in version 1.0.0. Downloads always resume when possible. If you want to force a new download, use `force_download=True`.\n",
      "  warnings.warn(\n"
     ]
    },
    {
     "name": "stdout",
     "output_type": "stream",
     "text": [
      "RAG pipeline loaded successfully.\n"
     ]
    }
   ],
   "source": [
    "dataset.load_model(\n",
    "    hf_path=\"HuggingFaceTB/SmolLM2-1.7B\",\n",
    "    rag=True,\n",
    "    rag_path=\"rag/kb300\"\n",
    ")"
   ]
  },
  {
   "cell_type": "code",
   "execution_count": 6,
   "metadata": {},
   "outputs": [],
   "source": [
    "dataset.test_set\n",
    "\n",
    "# test building a JSON object out of it\n",
    "import json \n",
    "\n",
    "with open(\"notebooks/res/test.json\", \"w\") as f:\n",
    "    _obj = {}\n",
    "    _obj['question'] = dataset.test_set['question']\n",
    "    _obj['choices'] = dataset.test_set['choices']\n",
    "    json.dump(_obj, f)"
   ]
  },
  {
   "cell_type": "code",
   "execution_count": 7,
   "metadata": {},
   "outputs": [
    {
     "name": "stdout",
     "output_type": "stream",
     "text": [
      "that magnifies an object mitochondria (singular: mitochondrion) the cellular organelles responsible for carrying out cellular respiration, resulting in the production of ATP, the cell’s main energy-carrying molecule nuclear envelope the double-membrane structure that constitutes the outermost portion of the nucleus nucleolus the darkly staining body within the nucleus that is responsible for assembling ribosomal 84 3 • Key Terms Access for free at openstax.org\n",
      "Figure 4.13 A large subunit (top) and a small subunit (bottom) comprise ribosomes. During protein synthesis, ribosomes assemble amino acids into proteins. Because protein synthesis is an essential function of all cells (including enzymes, hormones, antibodies, pigments, structural components, and surface receptors), there are ribosomes in practically every cell. Ribosomes are particularly abundant in cells that synthesize large amounts of protein. For example, the pancreas is responsible for creating several digestive enzymes and the cells that produce these enzymes contain many ribosomes. Thus, we see another example of form following function. Mitochondria Scientists often call mitochondria (singular = mitochondrion) “powerhouses” or “energy factories” of both plant and animal cells because they are responsible for making adenosine triphosphate (ATP), the cell’s main energy-carrying molecule. ATP represents the cell's short-term stored energy. Cellular respiration is the process of making ATP using the chemical energy in glucose and other nutrients. In mitochondria, this process uses oxygen and produces carbon dioxide as a waste product. In fact, the carbon dioxide that you exhale with every breath comes from the cellular reactions that produce carbon dioxide as a byproduct. In keeping with our theme of form following function, it is important to point out that muscle cells have a very high concentration of mitochondria that produce ATP. Your muscle cells need considerable energy to keep your body moving. When your cells don’t get enough oxygen, they do not make much ATP. Instead, producing lactic acid accompanies the small amount of ATP they make in the absence of oxygen. Mitochondria are oval-shaped, double membrane organelles (Figure 4.14) that have their own ribosomes and DNA. Each membrane is a phospholipid bilayer embedded with proteins. The inner layer has folds called cristae. We call the area surrounded by the folds the mitochondrial matrix. The cristae and the matrix\n"
     ]
    }
   ],
   "source": [
    "print(dataset.rag_pipeline.retrieve_documents(\"What is the function of the mitochondria?\"))"
   ]
  },
  {
   "cell_type": "code",
   "execution_count": 9,
   "metadata": {},
   "outputs": [
    {
     "data": {
      "text/plain": [
       "{'question': 'Based on the characteristic population curves that result from plotting population growth of a species, the most effective means of controlling the mosquito population is to',\n",
       " 'subject': 'college_biology',\n",
       " 'choices': ['maintain the population at a point corresponding to the midpoint of its logistic curve',\n",
       "  'opt for zero population control once the K value of the curve has been reached',\n",
       "  'reduce the carrying capacity cif the environment to lower the K value',\n",
       "  'increase the mortality rate'],\n",
       " 'answer': 2}"
      ]
     },
     "execution_count": 9,
     "metadata": {},
     "output_type": "execute_result"
    }
   ],
   "source": [
    "# get a sample question object from the test set\n",
    "question_obj = dataset.test_set[0]\n",
    "\n",
    "question_obj"
   ]
  },
  {
   "cell_type": "code",
   "execution_count": null,
   "metadata": {},
   "outputs": [],
   "source": []
  }
 ],
 "metadata": {
  "kernelspec": {
   "display_name": "mlx",
   "language": "python",
   "name": "python3"
  },
  "language_info": {
   "codemirror_mode": {
    "name": "ipython",
    "version": 3
   },
   "file_extension": ".py",
   "mimetype": "text/x-python",
   "name": "python",
   "nbconvert_exporter": "python",
   "pygments_lexer": "ipython3",
   "version": "3.11.10"
  }
 },
 "nbformat": 4,
 "nbformat_minor": 2
}
